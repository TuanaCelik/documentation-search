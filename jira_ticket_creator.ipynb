{
 "cells": [
  {
   "cell_type": "code",
   "execution_count": 21,
   "metadata": {},
   "outputs": [],
   "source": [
    "from milvus_haystack import MilvusDocumentStore\n",
    "\n",
    "document_store = MilvusDocumentStore(\n",
    "    connection_args={\n",
    "        \"host\": \"localhost\",\n",
    "        \"port\": \"19530\",\n",
    "        \"user\": \"\",\n",
    "        \"password\": \"\",\n",
    "        \"secure\": False,\n",
    "    },\n",
    ")"
   ]
  },
  {
   "cell_type": "code",
   "execution_count": 16,
   "metadata": {},
   "outputs": [],
   "source": [
    "import os\n",
    "import getpass\n",
    "\n",
    "os.environ[\"JINA_API_KEY\"] = getpass.getpass(\"Jina AI API Key: \")"
   ]
  },
  {
   "cell_type": "code",
   "execution_count": 31,
   "metadata": {},
   "outputs": [],
   "source": [
    "import json\n",
    "from typing import List\n",
    "from haystack import Document, component\n",
    "\n",
    "relevant_keys = ['Summary', 'Issue_key', 'Issue_id', 'Parent_id', 'Issue type', 'Status', 'Project lead', 'Priority', 'Assignee', 'Reporter', 'Creator', 'Created', 'Updated', 'Last Viewed', 'Due Date', 'Labels',\n",
    "                 'Description', 'Comment', 'Comment__1', 'Comment__2', 'Comment__3', 'Comment__4', 'Comment__5', 'Comment__6', 'Comment__7', 'Comment__8', 'Comment__9', 'Comment__10', 'Comment__11', 'Comment__12',\n",
    "                 'Comment__13', 'Comment__14', 'Comment__15']\n",
    "\n",
    "@component\n",
    "class RemoveKeys:\n",
    "    @component.output_types(documents=List[Document])\n",
    "    def run(self, file_name: str):\n",
    "        with open(file_name, 'r') as file:\n",
    "            tickets = json.load(file)\n",
    "        cleaned_tickets = []\n",
    "        for t in tickets:\n",
    "            t = {k: v for k, v in t.items() if k in relevant_keys and v}\n",
    "            cleaned_tickets.append(t)\n",
    "        return {'documents': cleaned_tickets}"
   ]
  },
  {
   "cell_type": "code",
   "execution_count": 32,
   "metadata": {},
   "outputs": [],
   "source": [
    "@component\n",
    "class JsonConverter:\n",
    "    @component.output_types(documents=List[Document])\n",
    "    def run(self, tickets: List[Document]):\n",
    "        tickets_documents = []\n",
    "        for t in tickets:\n",
    "            if 'Parent id' in t:\n",
    "                t = Document(content=json.dumps(t), meta={'Issue_key': t['Issue_key'], 'Issue_id': t['Issue_id'], 'Parent_id': t['Parent_id']})\n",
    "            else:\n",
    "                t = Document(content=json.dumps(t), meta={'Issue_key': t['Issue_key'], 'Issue_id': t['Issue_id'], 'Parent_id': ''})\n",
    "            tickets_documents.append(t)\n",
    "        return {'documents': tickets_documents}"
   ]
  },
  {
   "cell_type": "code",
   "execution_count": 33,
   "metadata": {},
   "outputs": [
    {
     "name": "stderr",
     "output_type": "stream",
     "text": [
      "Calculating embeddings:   0%|          | 0/1 [00:00<?, ?it/s]"
     ]
    },
    {
     "name": "stderr",
     "output_type": "stream",
     "text": [
      "Calculating embeddings: 100%|██████████| 1/1 [00:01<00:00,  1.22s/it]\n"
     ]
    },
    {
     "data": {
      "text/plain": [
       "{'embedder': {'meta': {'model': 'jina-embeddings-v2-base-en',\n",
       "   'usage': {'total_tokens': 20131, 'prompt_tokens': 20131}}},\n",
       " 'writer': {'documents_written': 62}}"
      ]
     },
     "execution_count": 33,
     "metadata": {},
     "output_type": "execute_result"
    }
   ],
   "source": [
    "from haystack import Pipeline\n",
    "from haystack.components.writers import DocumentWriter\n",
    "from haystack_integrations.components.embedders.jina import JinaDocumentEmbedder\n",
    "\n",
    "cleaner = RemoveKeys()\n",
    "converter = JsonConverter()\n",
    "embedder =  JinaDocumentEmbedder(model='jina-embeddings-v2-base-en')\n",
    "writer = DocumentWriter(document_store=document_store)\n",
    "\n",
    "indexing_pipeline = Pipeline()\n",
    "indexing_pipeline.add_component('cleaner', cleaner)\n",
    "indexing_pipeline.add_component('converter', converter)\n",
    "indexing_pipeline.add_component('embedder', embedder)\n",
    "indexing_pipeline.add_component('writer', writer)\n",
    "\n",
    "indexing_pipeline.connect('cleaner', 'converter')\n",
    "indexing_pipeline.connect('converter', 'embedder')\n",
    "indexing_pipeline.connect('embedder', 'writer')\n",
    "\n",
    "indexing_pipeline.run({'cleaner': {'file_name': 'tickets.json'}})"
   ]
  },
  {
   "cell_type": "code",
   "execution_count": 43,
   "metadata": {},
   "outputs": [],
   "source": [
    "from typing import Optional\n",
    "\n",
    "@component\n",
    "class RemoveRelated:\n",
    "    @component.output_types(documents=List[Document])\n",
    "    def run(self, tickets: List[Document], query_id: Optional[str]):\n",
    "        retrieved_tickets = []\n",
    "        for t in tickets:\n",
    "            if not t.meta['Issue_id'] == query_id and not t.meta['Parent_id'] == query_id:\n",
    "                retrieved_tickets.append(t)\n",
    "        return {'documents': retrieved_tickets}"
   ]
  },
  {
   "cell_type": "code",
   "execution_count": 54,
   "metadata": {},
   "outputs": [
    {
     "data": {
      "text/plain": [
       "<haystack.core.pipeline.pipeline.Pipeline object at 0x15ad2e6c0>\n",
       "🚅 Components\n",
       "  - query_embedder: JinaTextEmbedder\n",
       "  - doc_retriever: MilvusEmbeddingRetriever\n",
       "  - parent_cleaner: RemoveRelated\n",
       "  - jina_reranker: JinaRanker\n",
       "🛤️ Connections\n",
       "  - query_embedder.embedding -> doc_retriever.query_embedding (List[float])\n",
       "  - doc_retriever.documents -> parent_cleaner.tickets (List[Document])\n",
       "  - parent_cleaner.documents -> jina_reranker.documents (List[Document])"
      ]
     },
     "execution_count": 54,
     "metadata": {},
     "output_type": "execute_result"
    }
   ],
   "source": [
    "from haystack_integrations.components.embedders.jina import JinaTextEmbedder\n",
    "from haystack_integrations.components.rankers.jina import JinaRanker\n",
    "from milvus_haystack import MilvusEmbeddingRetriever\n",
    "\n",
    "retriever = MilvusEmbeddingRetriever(document_store=document_store, top_k=20)\n",
    "embedder = JinaTextEmbedder(model='jina-embeddings-v2-base-en')\n",
    "parent_cleaner = RemoveRelated()\n",
    "ranker = JinaRanker()\n",
    "\n",
    "query_pipeline_reranker = Pipeline()\n",
    "query_pipeline_reranker.add_component('query_embedder', embedder)\n",
    "query_pipeline_reranker.add_component('doc_retriever', retriever)\n",
    "query_pipeline_reranker.add_component('parent_cleaner', parent_cleaner)\n",
    "query_pipeline_reranker.add_component('jina_reranker', ranker)\n",
    "\n",
    "query_pipeline_reranker.connect('query_embedder.embedding', 'doc_retriever.query_embedding')\n",
    "query_pipeline_reranker.connect('doc_retriever', 'parent_cleaner')\n",
    "query_pipeline_reranker.connect('parent_cleaner', 'jina_reranker')"
   ]
  },
  {
   "cell_type": "code",
   "execution_count": 57,
   "metadata": {},
   "outputs": [
    {
     "name": "stdout",
     "output_type": "stream",
     "text": [
      "Doc 1: Document(id=b3cef78cd1901d5eb932228b5be1e01c379a18bb9bca9e5d17d1ba2e5c9b10e4, content: '{\"Summary\": \"add the new doc: zookeeperClients.md\", \"Issue_key\": \"ZOOKEEPER-3283\", \"Issue_id\": 13216...', meta: {'Issue_key': 'ZOOKEEPER-3283', 'Issue_id': 13216610, 'Parent_id': ''}, score: 0.8583627939224243, embedding: vector of size 768)\n",
      "Doc 2: Document(id=b48de999465cb3c5ceaad2145f1b2327870030aa31a5792fa7795ea4455a5e3a, content: '{\"Summary\": \"add a new documentation: zookeeperCodingGuide.md\", \"Issue_key\": \"ZOOKEEPER-3616\", \"Issu...', meta: {'Issue_key': 'ZOOKEEPER-3616', 'Issue_id': 13268279, 'Parent_id': ''}, score: 0.8556100726127625, embedding: vector of size 768)\n",
      "Doc 3: Document(id=8bd9795b3e0edd27a3a62b204d69ec846f4023c09ac87170dc433f24881e00d5, content: '{\"Summary\": \"support the complete linearizable read and multiply read consistency level\", \"Issue_key...', meta: {'Issue_key': 'ZOOKEEPER-3600', 'Issue_id': 13265507, 'Parent_id': ''}, score: 0.8250265121459961, embedding: vector of size 768)\n",
      "Doc 4: Document(id=b6abd633cdcdfc54f1d329dfc15e16bf97f86a8559c598fe200cffdc89d3feb8, content: '{\"Summary\": \"Add a documentation about RequestProcessors\", \"Issue_key\": \"ZOOKEEPER-3585\", \"Issue_id\"...', meta: {'Issue_key': 'ZOOKEEPER-3585', 'Issue_id': 13262828, 'Parent_id': ''}, score: 0.819604754447937, embedding: vector of size 768)\n",
      "Doc 5: Document(id=ac63b93724ea5213a335a60156a024daeee74c9287895ad61d03a9a9d4614d57, content: '{\"Summary\": \"[admin server way] Add a complete backup mechanism for zookeeper internal\", \"Issue_key\"...', meta: {'Issue_key': 'ZOOKEEPER-3499', 'Issue_id': 13249579, 'Parent_id': ''}, score: 0.8194603323936462, embedding: vector of size 768)\n",
      "Doc 6: Document(id=e8797bbeaa39c979bee7ac394e832e6e33ad020be6f2f0544fc31808bd10874c, content: '{\"Summary\": \"Add a documentation about docker\", \"Issue_key\": \"ZOOKEEPER-3587\", \"Issue_id\": 13262989,...', meta: {'Issue_key': 'ZOOKEEPER-3587', 'Issue_id': 13262989, 'Parent_id': ''}, score: 0.8158201575279236, embedding: vector of size 768)\n",
      "Doc 7: Document(id=91fe98b4dfc8b60d26e12de9d8b7bc0beb108d3d5ae837019811fb1853739824, content: '{\"Summary\": \"Errors that happen during sync() processing at the leader do not get propagated back to...', meta: {'Issue_key': 'ZOOKEEPER-915', 'Issue_id': 12478629, 'Parent_id': ''}, score: 0.8045595288276672, embedding: vector of size 768)\n",
      "Doc 8: Document(id=2f9dbfb82d50992b5c69e784a54cdcaec23b4b629dc0e7ae8e33f979d2d5402d, content: '{\"Summary\": \"fix the build warnings about @see,@link,@return found by IDEA\", \"Issue_key\": \"ZOOKEEPER...', meta: {'Issue_key': 'ZOOKEEPER-3789', 'Issue_id': 13297249, 'Parent_id': ''}, score: 0.8028648495674133, embedding: vector of size 768)\n",
      "Doc 9: Document(id=a310d3ac2810d81ef75f49205bb78495eb0a2dfa3488d0507ae2e0b7cc45af9e, content: '{\"Summary\": \"[CLI way]Add a complete backup mechanism for zookeeper internal\", \"Issue_key\": \"ZOOKEEP...', meta: {'Issue_key': 'ZOOKEEPER-3318', 'Issue_id': 13222060, 'Parent_id': ''}, score: 0.7958168387413025, embedding: vector of size 768)\n",
      "Doc 10: Document(id=4f48479d1ae4ce9bcc90b6a204aa52c108e0c7fddd05e7307eb2ad946cc75df8, content: '{\"Summary\": \"Update for Zookeeper latest version\", \"Issue_key\": \"ZOOKEEPER-4696\", \"Issue_id\": 135364...', meta: {'Issue_key': 'ZOOKEEPER-4696', 'Issue_id': 13536435, 'Parent_id': ''}, score: 0.7927852869033813, embedding: vector of size 768)\n"
     ]
    }
   ],
   "source": [
    "query_ticket_key = 'ZOOKEEPER-3282'\n",
    "\n",
    "with open('tickets.json', 'r') as file:\n",
    "    tickets = json.load(file)\n",
    "\n",
    "for ticket in tickets:\n",
    "    if ticket['Issue_key'] == query_ticket_key:\n",
    "        query = str(ticket)\n",
    "        query_ticket_id = ticket['Issue_id']\n",
    "        result = query_pipeline_reranker.run(data={'query_embedder':{'text': query},\n",
    "                                                    'parent_cleaner': {'query_id': query_ticket_id},\n",
    "                                                    'jina_reranker': {'query': query, 'top_k': 10}\n",
    "                                                    }\n",
    "                                                )\n",
    "\n",
    "        for idx, res in enumerate(result['jina_reranker']['documents']):\n",
    "            print('Doc {}:'.format(idx + 1), res)"
   ]
  }
 ],
 "metadata": {
  "kernelspec": {
   "display_name": "doc-search",
   "language": "python",
   "name": "python3"
  },
  "language_info": {
   "codemirror_mode": {
    "name": "ipython",
    "version": 3
   },
   "file_extension": ".py",
   "mimetype": "text/x-python",
   "name": "python",
   "nbconvert_exporter": "python",
   "pygments_lexer": "ipython3",
   "version": "3.12.3"
  }
 },
 "nbformat": 4,
 "nbformat_minor": 2
}
